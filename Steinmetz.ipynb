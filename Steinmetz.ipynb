{
  "nbformat": 4,
  "nbformat_minor": 0,
  "metadata": {
    "colab": {
      "name": "Steinmetz.ipynb",
      "provenance": [],
      "authorship_tag": "ABX9TyNoZUs6I9Fr1HbJ3NZ8QrOA",
      "include_colab_link": true
    },
    "kernelspec": {
      "name": "python3",
      "display_name": "Python 3"
    }
  },
  "cells": [
    {
      "cell_type": "markdown",
      "metadata": {
        "id": "view-in-github",
        "colab_type": "text"
      },
      "source": [
        "<a href=\"https://colab.research.google.com/github/terse-o/Steinmetz-Neural-Dataset/blob/master/Steinmetz.ipynb\" target=\"_parent\"><img src=\"https://colab.research.google.com/assets/colab-badge.svg\" alt=\"Open In Colab\"/></a>"
      ]
    },
    {
      "cell_type": "code",
      "metadata": {
        "id": "RVqBda83nhw-",
        "colab_type": "code",
        "colab": {}
      },
      "source": [
        "#@title Data retrieval\n",
        "import os, requests\n",
        "\n",
        "fname = []\n",
        "for j in range(3):\n",
        "  fname.append('steinmetz_part%d.npz'%j)\n",
        "url = [\"https://osf.io/agvxh/download\"]\n",
        "url.append(\"https://osf.io/uv3mw/download\")\n",
        "url.append(\"https://osf.io/ehmw2/download\")\n",
        "\n",
        "for j in range(len(url)):\n",
        "  if not os.path.isfile(fname[j]):\n",
        "    try:\n",
        "      r = requests.get(url[j])\n",
        "    except requests.ConnectionError:\n",
        "      print(\"!!! Failed to download data !!!\")\n",
        "    else:\n",
        "      if r.status_code != requests.codes.ok:\n",
        "        print(\"!!! Failed to download data !!!\")\n",
        "      else:\n",
        "        with open(fname[j], \"wb\") as fid:\n",
        "          fid.write(r.content)\n"
      ],
      "execution_count": 1,
      "outputs": []
    },
    {
      "cell_type": "code",
      "metadata": {
        "id": "zAeokjxFnmh3",
        "colab_type": "code",
        "colab": {}
      },
      "source": [
        "import pandas as pd\n",
        "from matplotlib import pyplot as plt"
      ],
      "execution_count": 2,
      "outputs": []
    },
    {
      "cell_type": "code",
      "metadata": {
        "id": "Be50Fvicnqwd",
        "colab_type": "code",
        "colab": {}
      },
      "source": [
        "#@title Data loading\n",
        "import numpy as np\n",
        "\n",
        "alldat = np.array([])\n",
        "for j in range(len(fname)):\n",
        "  alldat = np.hstack((alldat, np.load('steinmetz_part%d.npz'%j, allow_pickle=True)['dat']))\n",
        "\n"
      ],
      "execution_count": 3,
      "outputs": []
    },
    {
      "cell_type": "code",
      "metadata": {
        "id": "SvmLAF5wn4AY",
        "colab_type": "code",
        "colab": {}
      },
      "source": [
        "# Active Trials - Neuron - Mean - Variance - Variability\n",
        "def neuron_variability_active(mice):\n",
        "\n",
        "  uni = np.unique(alldat[mice]['brain_area'])\n",
        "  nn = len(alldat[mice]['brain_area'])\n",
        "  barea = len(uni)-1 * np.ones(nn, )\n",
        "  for j in range(len(uni)-1):\n",
        "    barea[np.isin(alldat[mice]['brain_area'], uni[j])] = j\n",
        "\n",
        "  #Active trials\n",
        "  amean_e1 = [None for _ in range(len(uni))]\n",
        "  avariance_e1 = [None for _ in range(len(uni))]\n",
        "  amean_e2 = [None for _ in range(len(uni))]\n",
        "  avariance_e2 = [None for _ in range(len(uni))]\n",
        "  amean_e3 = [None for _ in range(len(uni))]\n",
        "  avariance_e3 = [None for _ in range(len(uni))]\n",
        "  amean_e4 = [None for _ in range(len(uni))]\n",
        "  avariance_e4 = [None for _ in range(len(uni))]\n",
        "  amean_e5 = [None for _ in range(len(uni))]\n",
        "  avariance_e5 = [None for _ in range(len(uni))]\n",
        "\n",
        "  #Active epochs\n",
        "  #Epoch 1: 0-49\n",
        "  for i in range(len(uni)):\n",
        "    for j in range(len(alldat[mice]['spks'][0])-1):\n",
        "      amean_e1[i] = np.mean(alldat[mice]['spks'][barea==i, j, 0:49])\n",
        "  for i in range(len(uni)):\n",
        "    for j in range(len(alldat[mice]['spks'][0])-1):\n",
        "      avariance_e1[i] = np.var(alldat[mice]['spks'][barea==i, j, 0:49])\n",
        "\n",
        "  #Epoch 2: 50-99\n",
        "  for i in range(len(uni)):\n",
        "    for j in range(len(alldat[mice]['spks'][0])-1):\n",
        "      amean_e2[i] = np.mean(alldat[mice]['spks'][barea==i, j, 50:99])\n",
        "  for i in range(len(uni)):\n",
        "    for j in range(len(alldat[mice]['spks'][0])-1):\n",
        "      avariance_e2[i] = np.var(alldat[mice]['spks'][barea==i, j, 50:99])\n",
        "\n",
        "  #Epoch 3: 100-149\n",
        "  for i in range(len(uni)):\n",
        "    for j in range(len(alldat[mice]['spks'][0])-1):\n",
        "      amean_e3[i] = np.mean(alldat[mice]['spks'][barea==i, j, 100:149])\n",
        "  for i in range(len(uni)):\n",
        "    for j in range(len(alldat[mice]['spks'][0])-1):\n",
        "      avariance_e3[i] = np.var(alldat[mice]['spks'][barea==i, j, 100:149])\n",
        "\n",
        "  #Epoch 4: 150-199\n",
        "  for i in range(len(uni)):\n",
        "    for j in range(len(alldat[mice]['spks'][0])-1):\n",
        "      amean_e4[i] = np.mean(alldat[mice]['spks'][barea==i, j, 150:199])\n",
        "  for i in range(len(uni)):\n",
        "    for j in range(len(alldat[mice]['spks'][0])-1):\n",
        "      avariance_e4[i] = np.var(alldat[mice]['spks'][barea==i, j, 150:199])\n",
        "\n",
        "  #Epoch 5: 200-250\n",
        "  for i in range(len(uni)):\n",
        "    for j in range(len(alldat[mice]['spks'][0])-1):\n",
        "      amean_e5[i] = np.mean(alldat[mice]['spks'][barea==i, j, 200:250])\n",
        "  for i in range(len(uni)):\n",
        "    for j in range(len(alldat[mice]['spks'][0])-1):\n",
        "      avariance_e5[i] = np.var(alldat[mice]['spks'][barea==i, j, 200:250])\n",
        "\n",
        "  #Variability\n",
        "  avariability_e1 = [i / j for i, j in zip(avariance_e1, amean_e1)]\n",
        "  avariability_e2 = [i / j for i, j in zip(avariance_e2, amean_e2)] \n",
        "  avariability_e3 = [i / j for i, j in zip(avariance_e3, amean_e3)]\n",
        "  avariability_e4 = [i / j for i, j in zip(avariance_e4, amean_e4)]\n",
        "  avariability_e5 = [i / j for i, j in zip(avariance_e5, amean_e5)]\n",
        "\n",
        "  #DF Variability\n",
        "  a_e1 = list(zip(uni, amean_e1, avariance_e1, avariability_e1))\n",
        "  a_e2 = list(zip(uni, amean_e2, avariance_e2, avariability_e2))\n",
        "  a_e3 = list(zip(uni, amean_e3, avariance_e3, avariability_e3))\n",
        "  a_e4 = list(zip(uni, amean_e4, avariance_e4, avariability_e4))\n",
        "  a_e5 = list(zip(uni, amean_e5, avariance_e5, avariability_e5))\n",
        "\n",
        "  column_names = ['Neuron', 'Mean', 'Variance', 'Variability']\n",
        "  adf_e1 = pd.DataFrame(a_e1, columns=column_names)\n",
        "  adf_e2 = pd.DataFrame(a_e2, columns=column_names)\n",
        "  adf_e3 = pd.DataFrame(a_e3, columns=column_names)\n",
        "  adf_e4 = pd.DataFrame(a_e4, columns=column_names)\n",
        "  adf_e5 = pd.DataFrame(a_e5, columns=column_names)\n",
        "\n",
        "  return adf_e1, adf_e2, adf_e3, adf_e4, adf_e5\n",
        "\n"
      ],
      "execution_count": 4,
      "outputs": []
    },
    {
      "cell_type": "code",
      "metadata": {
        "id": "nCehKHZmoFne",
        "colab_type": "code",
        "colab": {
          "base_uri": "https://localhost:8080/",
          "height": 124
        },
        "outputId": "6bbe588b-89f8-4d8f-d237-88362cef4135"
      },
      "source": [
        "adf1, adf2, adf3, adf4, adf5 = neuron_variability_active(25)\n",
        "print(adf1)\n"
      ],
      "execution_count": 5,
      "outputs": [
        {
          "output_type": "stream",
          "text": [
            "  Neuron      Mean  Variance  Variability\n",
            "0    MOs  0.013032  0.013354     1.024704\n",
            "1    MRN  0.050033  0.061449     1.228163\n",
            "2   SCig  0.041676  0.045739     1.097500\n",
            "3   VISp  0.004913  0.005645     1.148933\n",
            "4   root  0.010617  0.013175     1.240880\n"
          ],
          "name": "stdout"
        }
      ]
    },
    {
      "cell_type": "code",
      "metadata": {
        "id": "5KK1YYoToKMf",
        "colab_type": "code",
        "colab": {}
      },
      "source": [
        "# Passive Trials - Neuron - Mean - Variance - Variability\n",
        "def neuron_variability_passive(mice):\n",
        "\n",
        "  uni = np.unique(alldat[mice]['brain_area'])\n",
        "  nn = len(alldat[mice]['brain_area'])\n",
        "  barea = len(uni)-1 * np.ones(nn, )\n",
        "  for j in range(len(uni)-1):\n",
        "    barea[np.isin(alldat[mice]['brain_area'], uni[j])] = j\n",
        "\n",
        "  #Passive trials\n",
        "\n",
        "  pmean_e1 = [None for _ in range(len(uni))]\n",
        "  pvariance_e1 = [None for _ in range(len(uni))]\n",
        "  pmean_e2 = [None for _ in range(len(uni))]\n",
        "  pvariance_e2 = [None for _ in range(len(uni))]\n",
        "  pmean_e3 = [None for _ in range(len(uni))]\n",
        "  pvariance_e3 = [None for _ in range(len(uni))]\n",
        "  pmean_e4 = [None for _ in range(len(uni))]\n",
        "  pvariance_e4 = [None for _ in range(len(uni))]\n",
        "  pmean_e5 = [None for _ in range(len(uni))]\n",
        "  pvariance_e5 = [None for _ in range(len(uni))]\n",
        "\n",
        "  #Passive epochs\n",
        "  #Epoch 1: 0-49\n",
        "  for i in range(len(uni)):\n",
        "    for j in range(len(alldat[mice]['spks_passive'][0])-1):\n",
        "      pmean_e1[i] = np.mean(alldat[mice]['spks_passive'][barea==i, j, 0:49])\n",
        "  for i in range(len(uni)):\n",
        "    for j in range(len(alldat[mice]['spks_passive'][0])-1):\n",
        "      pvariance_e1[i] = np.var(alldat[mice]['spks_passive'][barea==i, j, 0:49])\n",
        "\n",
        "  #Epoch 2: 50-99\n",
        "  for i in range(len(uni)):\n",
        "    for j in range(len(alldat[mice]['spks_passive'][0])-1):\n",
        "      pmean_e2[i] = np.mean(alldat[mice]['spks_passive'][barea==i, j, 50:99])\n",
        "  for i in range(len(uni)):\n",
        "    for j in range(len(alldat[mice]['spks_passive'][0])-1):\n",
        "      pvariance_e2[i] = np.var(alldat[mice]['spks_passive'][barea==i, j, 50:99])\n",
        "\n",
        "  #Epoch 3: 100-149\n",
        "  for i in range(len(uni)):\n",
        "    for j in range(len(alldat[mice]['spks_passive'][0])-1):\n",
        "      pmean_e3[i] = np.mean(alldat[mice]['spks_passive'][barea==i, j, 100:149])\n",
        "  for i in range(len(uni)):\n",
        "    for j in range(len(alldat[mice]['spks_passive'][0])-1):\n",
        "      pvariance_e3[i] = np.var(alldat[mice]['spks_passive'][barea==i, j, 100:149])\n",
        "\n",
        "  #Epoch 4: 150-199\n",
        "  for i in range(len(uni)):\n",
        "    for j in range(len(alldat[mice]['spks_passive'][0])-1):\n",
        "      pmean_e4[i] = np.mean(alldat[mice]['spks_passive'][barea==i, j, 150:199])\n",
        "  for i in range(len(uni)):\n",
        "    for j in range(len(alldat[mice]['spks_passive'][0])-1):\n",
        "      pvariance_e4[i] = np.var(alldat[mice]['spks_passive'][barea==i, j, 150:199])\n",
        "\n",
        "  #Epoch 5: 200-250\n",
        "  for i in range(len(uni)):\n",
        "    for j in range(len(alldat[mice]['spks_passive'][0])-1):\n",
        "      pmean_e5[i] = np.mean(alldat[mice]['spks_passive'][barea==i, j, 200:250])\n",
        "  for i in range(len(uni)):\n",
        "    for j in range(len(alldat[mice]['spks_passive'][0])-1):\n",
        "      pvariance_e5[i] = np.var(alldat[mice]['spks_passive'][barea==i, j, 200:250])\n",
        "\n",
        "  #Variability\n",
        "  pvariability_e1 = [i / j for i, j in zip(pvariance_e1, pmean_e1)]\n",
        "  pvariability_e2 = [i / j for i, j in zip(pvariance_e2, pmean_e2)] \n",
        "  pvariability_e3 = [i / j for i, j in zip(pvariance_e3, pmean_e3)] \n",
        "  pvariability_e4 = [i / j for i, j in zip(pvariance_e4, pmean_e4)] \n",
        "  pvariability_e5 = [i / j for i, j in zip(pvariance_e5, pmean_e5)] \n",
        "\n",
        "  #DF Variability\n",
        "  p_e1 = list(zip(uni, pmean_e1, pvariance_e1, pvariability_e1))\n",
        "  p_e2 = list(zip(uni, pmean_e2, pvariance_e2, pvariability_e2))\n",
        "  p_e3 = list(zip(uni, pmean_e3, pvariance_e3, pvariability_e3))\n",
        "  p_e4 = list(zip(uni, pmean_e4, pvariance_e4, pvariability_e4))\n",
        "  p_e5 = list(zip(uni, pmean_e5, pvariance_e5, pvariability_e5))\n",
        "\n",
        "  column_names = ['Neuron', 'Mean', 'Variance', 'Variability']\n",
        "  pdf_e1 = pd.DataFrame(p_e1, columns=column_names)\n",
        "  pdf_e2 = pd.DataFrame(p_e2, columns=column_names)\n",
        "  pdf_e3 = pd.DataFrame(p_e3, columns=column_names)\n",
        "  pdf_e4 = pd.DataFrame(p_e4, columns=column_names)\n",
        "  pdf_e5 = pd.DataFrame(p_e5, columns=column_names)\n",
        "\n",
        "  return pdf_e1, pdf_e2, pdf_e3, pdf_e4, pdf_e5\n",
        "   "
      ],
      "execution_count": 6,
      "outputs": []
    },
    {
      "cell_type": "code",
      "metadata": {
        "id": "eYNFuwzhofri",
        "colab_type": "code",
        "colab": {
          "base_uri": "https://localhost:8080/",
          "height": 124
        },
        "outputId": "e9b7d128-bf82-4ec4-eaa7-b875287483e9"
      },
      "source": [
        "pdf1, pdf2, pdf3, pdf4, pdf5 = neuron_variability_passive(25)\n",
        "print(pdf1)\n"
      ],
      "execution_count": 7,
      "outputs": [
        {
          "output_type": "stream",
          "text": [
            "  Neuron      Mean  Variance  Variability\n",
            "0    MOs  0.012909  0.012742     0.987091\n",
            "1    MRN  0.034797  0.038289     1.100338\n",
            "2   SCig  0.035983  0.035977     0.999838\n",
            "3   VISp  0.010456  0.011103     1.061833\n",
            "4   root  0.014368  0.015052     1.047579\n"
          ],
          "name": "stdout"
        }
      ]
    },
    {
      "cell_type": "code",
      "metadata": {
        "id": "iSftidPPoiAb",
        "colab_type": "code",
        "colab": {}
      },
      "source": [
        "#Neuron variability through epochs - Mean - Variance\n",
        "def neuron_variability_epoch(mice):\n",
        "\n",
        "  uni = np.unique(alldat[mice]['brain_area'])\n",
        "  \n",
        "  \n",
        "  nn = len(alldat[mice]['brain_area'])\n",
        "  barea = len(uni)-1 * np.ones(nn, )\n",
        "  for j in range(len(uni)-1):\n",
        "    barea[np.isin(alldat[mice]['brain_area'], uni[j])] = j\n",
        "\n",
        "  #Active trials\n",
        "  amean_e1 = [None for _ in range(len(uni))]\n",
        "  avariance_e1 = [None for _ in range(len(uni))]\n",
        "  amean_e2 = [None for _ in range(len(uni))]\n",
        "  avariance_e2 = [None for _ in range(len(uni))]\n",
        "  amean_e3 = [None for _ in range(len(uni))]\n",
        "  avariance_e3 = [None for _ in range(len(uni))]\n",
        "  amean_e4 = [None for _ in range(len(uni))]\n",
        "  avariance_e4 = [None for _ in range(len(uni))]\n",
        "  amean_e5 = [None for _ in range(len(uni))]\n",
        "  avariance_e5 = [None for _ in range(len(uni))]\n",
        "\n",
        "  #Active epochs\n",
        "  #Epoch 1: 0-49\n",
        "  for i in range(len(uni)):\n",
        "    for j in range(len(alldat[mice]['spks'][0])-1):\n",
        "      amean_e1[i] = np.mean(alldat[mice]['spks'][barea==i, j, 0:49])\n",
        "  for i in range(len(uni)):\n",
        "    for j in range(len(alldat[mice]['spks'][0])-1):\n",
        "      avariance_e1[i] = np.var(alldat[mice]['spks'][barea==i, j, 0:49])\n",
        "\n",
        "  #Epoch 2: 50-99\n",
        "  for i in range(len(uni)):\n",
        "    for j in range(len(alldat[mice]['spks'][0])-1):\n",
        "      amean_e2[i] = np.mean(alldat[mice]['spks'][barea==i, j, 50:99])\n",
        "  for i in range(len(uni)):\n",
        "    for j in range(len(alldat[mice]['spks'][0])-1):\n",
        "      avariance_e2[i] = np.var(alldat[mice]['spks'][barea==i, j, 50:99])\n",
        "\n",
        "  #Epoch 3: 100-149\n",
        "  for i in range(len(uni)):\n",
        "    for j in range(len(alldat[mice]['spks'][0])-1):\n",
        "      amean_e3[i] = np.mean(alldat[mice]['spks'][barea==i, j, 100:149])\n",
        "  for i in range(len(uni)):\n",
        "    for j in range(len(alldat[mice]['spks'][0])-1):\n",
        "      avariance_e3[i] = np.var(alldat[mice]['spks'][barea==i, j, 100:149])\n",
        "\n",
        "  #Epoch 4: 150-199\n",
        "  for i in range(len(uni)):\n",
        "    for j in range(len(alldat[mice]['spks'][0])-1):\n",
        "      amean_e4[i] = np.mean(alldat[mice]['spks'][barea==i, j, 150:199])\n",
        "  for i in range(len(uni)):\n",
        "    for j in range(len(alldat[mice]['spks'][0])-1):\n",
        "      avariance_e4[i] = np.var(alldat[mice]['spks'][barea==i, j, 150:199])\n",
        "\n",
        "  #Epoch 5: 200-250\n",
        "  for i in range(len(uni)):\n",
        "    for j in range(len(alldat[mice]['spks'][0])-1):\n",
        "      amean_e5[i] = np.mean(alldat[mice]['spks'][barea==i, j, 200:250])\n",
        "  for i in range(len(uni)):\n",
        "    for j in range(len(alldat[mice]['spks'][0])-1):\n",
        "      avariance_e5[i] = np.var(alldat[mice]['spks'][barea==i, j, 200:250])\n",
        "\n",
        "  #Active Variability\n",
        "  avariability_e1 = [i / j for i, j in zip(avariance_e1, amean_e1)]\n",
        "  avariability_e2 = [i / j for i, j in zip(avariance_e2, amean_e2)] \n",
        "  avariability_e3 = [i / j for i, j in zip(avariance_e3, amean_e3)]\n",
        "  avariability_e4 = [i / j for i, j in zip(avariance_e4, amean_e4)]\n",
        "  avariability_e5 = [i / j for i, j in zip(avariance_e5, amean_e5)]\n",
        "\n",
        "  #Passive trials\n",
        "  pmean_e1 = [None for _ in range(len(uni))]\n",
        "  pvariance_e1 = [None for _ in range(len(uni))]\n",
        "  pmean_e2 = [None for _ in range(len(uni))]\n",
        "  pvariance_e2 = [None for _ in range(len(uni))]\n",
        "  pmean_e3 = [None for _ in range(len(uni))]\n",
        "  pvariance_e3 = [None for _ in range(len(uni))]\n",
        "  pmean_e4 = [None for _ in range(len(uni))]\n",
        "  pvariance_e4 = [None for _ in range(len(uni))]\n",
        "  pmean_e5 = [None for _ in range(len(uni))]\n",
        "  pvariance_e5 = [None for _ in range(len(uni))]\n",
        "\n",
        "  #Passive epochs\n",
        "  #Epoch 1: 0-49\n",
        "  for i in range(len(uni)):\n",
        "    for j in range(len(alldat[mice]['spks_passive'][0])-1):\n",
        "      pmean_e1[i] = np.mean(alldat[mice]['spks_passive'][barea==i, j, 0:49])\n",
        "  for i in range(len(uni)):\n",
        "    for j in range(len(alldat[mice]['spks_passive'][0])-1):\n",
        "      pvariance_e1[i] = np.var(alldat[mice]['spks_passive'][barea==i, j, 0:49])\n",
        "\n",
        "  #Epoch 2: 50-99\n",
        "  for i in range(len(uni)):\n",
        "    for j in range(len(alldat[mice]['spks_passive'][0])-1):\n",
        "      pmean_e2[i] = np.mean(alldat[mice]['spks_passive'][barea==i, j, 50:99])\n",
        "  for i in range(len(uni)):\n",
        "    for j in range(len(alldat[mice]['spks_passive'][0])-1):\n",
        "      pvariance_e2[i] = np.var(alldat[mice]['spks_passive'][barea==i, j, 50:99])\n",
        "\n",
        "  #Epoch 3: 100-149\n",
        "  for i in range(len(uni)):\n",
        "    for j in range(len(alldat[mice]['spks_passive'][0])-1):\n",
        "      pmean_e3[i] = np.mean(alldat[mice]['spks_passive'][barea==i, j, 100:149])\n",
        "  for i in range(len(uni)):\n",
        "    for j in range(len(alldat[mice]['spks_passive'][0])-1):\n",
        "      pvariance_e3[i] = np.var(alldat[mice]['spks_passive'][barea==i, j, 100:149])\n",
        "\n",
        "  #Epoch 4: 150-199\n",
        "  for i in range(len(uni)):\n",
        "    for j in range(len(alldat[mice]['spks_passive'][0])-1):\n",
        "      pmean_e4[i] = np.mean(alldat[mice]['spks_passive'][barea==i, j, 150:199])\n",
        "  for i in range(len(uni)):\n",
        "    for j in range(len(alldat[mice]['spks_passive'][0])-1):\n",
        "      pvariance_e4[i] = np.var(alldat[mice]['spks_passive'][barea==i, j, 150:199])\n",
        "\n",
        "  #Epoch 5: 200-250\n",
        "  for i in range(len(uni)):\n",
        "    for j in range(len(alldat[mice]['spks_passive'][0])-1):\n",
        "      pmean_e5[i] = np.mean(alldat[mice]['spks_passive'][barea==i, j, 200:250])\n",
        "  for i in range(len(uni)):\n",
        "    for j in range(len(alldat[mice]['spks_passive'][0])-1):\n",
        "      pvariance_e5[i] = np.var(alldat[mice]['spks_passive'][barea==i, j, 200:250])\n",
        "\n",
        "  #Passive Variability\n",
        "  pvariability_e1 = [i / j for i, j in zip(pvariance_e1, pmean_e1)]\n",
        "  pvariability_e2 = [i / j for i, j in zip(pvariance_e2, pmean_e2)] \n",
        "  pvariability_e3 = [i / j for i, j in zip(pvariance_e3, pmean_e3)] \n",
        "  pvariability_e4 = [i / j for i, j in zip(pvariance_e4, pmean_e4)] \n",
        "  pvariability_e5 = [i / j for i, j in zip(pvariance_e5, pmean_e5)] \n",
        "\n",
        "  #DF Variability\n",
        "  #e1 = list(zip(uni, avariability_e1, pvariability_e1))\n",
        "  #e2 = list(zip(uni, avariability_e2, pvariability_e2))\n",
        "  #e3 = list(zip(uni, avariability_e3, pvariability_e3))\n",
        "  #e4 = list(zip(uni, avariability_e4, pvariability_e4))\n",
        "  #e5 = list(zip(uni, avariability_e5, pvariability_e5))\n",
        "\n",
        "  #Variability per Epoch\n",
        "  act = list(zip(uni, avariability_e1, avariability_e2, avariability_e3, avariability_e4, avariability_e5))\n",
        "  pas = list(zip(uni, pvariability_e1, pvariability_e2, pvariability_e3, pvariability_e4, pvariability_e5))\n",
        "\n",
        "  act_mean = list(zip(uni, amean_e1, amean_e2, amean_e3, amean_e4, amean_e5))\n",
        "  act_var = list(zip(uni, avariance_e1, avariance_e2, avariance_e3, avariance_e4, avariance_e5))\n",
        "\n",
        "  pas_mean = list(zip(uni, pmean_e1, pmean_e2, pmean_e3, pmean_e4, pmean_e5))\n",
        "  pas_var = list(zip(uni, pvariance_e1, pvariance_e2, pvariance_e3, pvariance_e4, pvariance_e5))\n",
        "\n",
        "  column_names_E = ['Neuron', 'Epoch1', 'Epoch2', 'Epoch3', 'Epoch4', 'Epoch5']\n",
        "  df_a = pd.DataFrame(act, columns=column_names_E)\n",
        "  df_p = pd.DataFrame(pas, columns=column_names_E)\n",
        "\n",
        "  df_amean = pd.DataFrame(act_mean, columns=column_names_E)\n",
        "  df_pmean = pd.DataFrame(pas_mean, columns=column_names_E)\n",
        "  df_avar = pd.DataFrame(act_var, columns=column_names_E)\n",
        "  df_pvar = pd.DataFrame(pas_var, columns=column_names_E)\n",
        "  \n",
        "  return df_a, df_p, df_amean, df_pmean, df_avar, df_pvar\n",
        "\n"
      ],
      "execution_count": 8,
      "outputs": []
    },
    {
      "cell_type": "code",
      "metadata": {
        "id": "a8jUJK-PpTso",
        "colab_type": "code",
        "colab": {}
      },
      "source": [
        "#Plot Active Trials - Mean v/s Variance - Regression Line\n",
        "def plot_active_mv(amean, avar):\n",
        "\n",
        "  result_mean = np.array([])\n",
        "  result_var = np.array([])\n",
        "\n",
        "  for i in range(len(amean.index)-1):\n",
        "    mean = list(amean.iloc[i, 1:])\n",
        "    var = list(avar.iloc[i, 1:])\n",
        "\n",
        "    #appending all means and variances for performing regression at the end\n",
        "    result_mean = np.append(result_mean, mean)\n",
        "    result_var = np.append(result_var, var)\n",
        "\n",
        "    plt.scatter(mean, var)\n",
        "    plt.title(\"Active trials\")\n",
        "    plt.xlabel(\"Mean firing rate\")\n",
        "    plt.ylabel(\"Variance\")\n",
        "    plt.legend(amean.iloc[:,0], loc='center left', bbox_to_anchor=(1.0, 0.5))\n",
        "\n",
        "  #plotting regression line\n",
        "  plt.plot(np.unique(result_mean), np.poly1d(np.polyfit(result_mean, result_var, 1))(np.unique(result_mean)))\n",
        "\n",
        "#Plot Passive Trials - Mean v/s Varince\n",
        "def plot_passive_mv(pmean, pvar):\n",
        "\n",
        "  result_mean = np.array([])\n",
        "  result_var = np.array([])\n",
        "\n",
        "  for i in range(len(pmean.index)-1):\n",
        "    mean = list(pmean.iloc[i, 1:])\n",
        "    var = list(pvar.iloc[i, 1:])\n",
        "  \n",
        "    #appending all means and variances for performing regression at the end\n",
        "    result_mean = np.append(result_mean, mean)\n",
        "    result_var = np.append(result_var, var)\n",
        "\n",
        "    plt.scatter(mean, var)\n",
        "    plt.title(\"Passive trials\")\n",
        "    plt.xlabel(\"Mean firing rate\")\n",
        "    plt.ylabel(\"Variance\")\n",
        "    plt.legend(amean.iloc[:,0], loc='center left', bbox_to_anchor=(1.0, 0.5))\n",
        "\n",
        "  #plotting regression line\n",
        "  plt.plot(np.unique(result_mean), np.poly1d(np.polyfit(result_mean, result_var, 1))(np.unique(result_mean)))"
      ],
      "execution_count": 9,
      "outputs": []
    },
    {
      "cell_type": "code",
      "metadata": {
        "id": "FGkxUZm7pPgi",
        "colab_type": "code",
        "colab": {}
      },
      "source": [
        "#Plot Variability through Epochs\n",
        "def plot_variability(active, passive):\n",
        "  active = active.drop(active[active.Neuron == 'root'].index)\n",
        "  passive = passive.drop(passive[passive.Neuron == 'root'].index)\n",
        "\n",
        "  active = active.set_index('Neuron').transpose()\n",
        "  passive = passive.set_index('Neuron').transpose()\n",
        "\n",
        "  active_plot = active.plot.line(title = 'Active Trials')\n",
        "  passive_plot = passive.plot.line(title = 'Passive Trials')\n",
        "\n",
        "  return active_plot, passive_plot\n",
        "  "
      ],
      "execution_count": 10,
      "outputs": []
    },
    {
      "cell_type": "code",
      "metadata": {
        "id": "8gOKWT9qpmPA",
        "colab_type": "code",
        "colab": {
          "base_uri": "https://localhost:8080/",
          "height": 581
        },
        "outputId": "0b313eeb-d304-4e6c-ad54-7ca93dd06917"
      },
      "source": [
        "#Try it yourself! - Enter mice number in neuron_variability_epoch()\n",
        "active, passive, amean, pmean, avar, pvar = neuron_variability_epoch(20)\n",
        "plot_variability(active, passive)"
      ],
      "execution_count": 11,
      "outputs": [
        {
          "output_type": "execute_result",
          "data": {
            "text/plain": [
              "(<matplotlib.axes._subplots.AxesSubplot at 0x7f53f4cbcf28>,\n",
              " <matplotlib.axes._subplots.AxesSubplot at 0x7f53f471fe10>)"
            ]
          },
          "metadata": {
            "tags": []
          },
          "execution_count": 11
        },
        {
          "output_type": "display_data",
          "data": {
            "image/png": "[encoded data removed]",
            "text/plain": [
              "<Figure size 432x288 with 1 Axes>"
            ]
          },
          "metadata": {
            "tags": [],
            "needs_background": "light"
          }
        },
        {
          "output_type": "display_data",
          "data": {
            "image/png": "[encoded data removed]",
            "text/plain": [
              "<Figure size 432x288 with 1 Axes>"
            ]
          },
          "metadata": {
            "tags": [],
            "needs_background": "light"
          }
        }
      ]
    },
    {
      "cell_type": "code",
      "metadata": {
        "id": "ZRfUFJgEptUg",
        "colab_type": "code",
        "colab": {
          "base_uri": "https://localhost:8080/",
          "height": 295
        },
        "outputId": "f7b0bf8c-5d5b-462c-823e-8d969c1e757a"
      },
      "source": [
        "plot_active_mv(amean, avar)"
      ],
      "execution_count": 12,
      "outputs": [
        {
          "output_type": "display_data",
          "data": {
            "image/png": "[encoded data removed]",
            "text/plain": [
              "<Figure size 432x288 with 1 Axes>"
            ]
          },
          "metadata": {
            "tags": [],
            "needs_background": "light"
          }
        }
      ]
    },
    {
      "cell_type": "code",
      "metadata": {
        "id": "IvHcqOo4p4MY",
        "colab_type": "code",
        "colab": {
          "base_uri": "https://localhost:8080/",
          "height": 295
        },
        "outputId": "e18929cb-6950-4cec-eb47-cb67dd229759"
      },
      "source": [
        "plot_passive_mv(pmean, pvar)"
      ],
      "execution_count": 13,
      "outputs": [
        {
          "output_type": "display_data",
          "data": {
            "image/png": "[encoded data removed]",
            "text/plain": [
              "<Figure size 432x288 with 1 Axes>"
            ]
          },
          "metadata": {
            "tags": [],
            "needs_background": "light"
          }
        }
      ]
    },
    {
      "cell_type": "code",
      "metadata": {
        "id": "NP-6gccVp6WW",
        "colab_type": "code",
        "colab": {}
      },
      "source": [
        ""
      ],
      "execution_count": null,
      "outputs": []
    }
  ]
}